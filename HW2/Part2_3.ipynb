{
 "cells": [
  {
   "cell_type": "code",
   "execution_count": 1,
   "id": "ff8f5a7d",
   "metadata": {},
   "outputs": [],
   "source": [
    "from manual_log_reg import ManualLogisticRegression\n",
    "import pandas as pd\n",
    "import numpy as np\n",
    "from sklearn.model_selection import train_test_split\n",
    "from sklearn.preprocessing import StandardScaler\n",
    "from sklearn.metrics import roc_auc_score"
   ]
  },
  {
   "cell_type": "code",
   "execution_count": 2,
   "id": "f587f764",
   "metadata": {},
   "outputs": [
    {
     "data": {
      "text/html": [
       "<div>\n",
       "<style scoped>\n",
       "    .dataframe tbody tr th:only-of-type {\n",
       "        vertical-align: middle;\n",
       "    }\n",
       "\n",
       "    .dataframe tbody tr th {\n",
       "        vertical-align: top;\n",
       "    }\n",
       "\n",
       "    .dataframe thead th {\n",
       "        text-align: right;\n",
       "    }\n",
       "</style>\n",
       "<table border=\"1\" class=\"dataframe\">\n",
       "  <thead>\n",
       "    <tr style=\"text-align: right;\">\n",
       "      <th></th>\n",
       "      <th>Age</th>\n",
       "      <th>Systolic_BP</th>\n",
       "      <th>Diastolic_BP</th>\n",
       "      <th>Cholesterol</th>\n",
       "    </tr>\n",
       "  </thead>\n",
       "  <tbody>\n",
       "    <tr>\n",
       "      <th>0</th>\n",
       "      <td>77.196340</td>\n",
       "      <td>85.288742</td>\n",
       "      <td>80.021878</td>\n",
       "      <td>79.957109</td>\n",
       "    </tr>\n",
       "    <tr>\n",
       "      <th>1</th>\n",
       "      <td>63.529850</td>\n",
       "      <td>99.379736</td>\n",
       "      <td>84.852361</td>\n",
       "      <td>110.382411</td>\n",
       "    </tr>\n",
       "    <tr>\n",
       "      <th>2</th>\n",
       "      <td>69.003986</td>\n",
       "      <td>111.349455</td>\n",
       "      <td>109.850616</td>\n",
       "      <td>100.828246</td>\n",
       "    </tr>\n",
       "    <tr>\n",
       "      <th>3</th>\n",
       "      <td>82.638210</td>\n",
       "      <td>95.056128</td>\n",
       "      <td>79.666851</td>\n",
       "      <td>87.066303</td>\n",
       "    </tr>\n",
       "    <tr>\n",
       "      <th>4</th>\n",
       "      <td>78.346286</td>\n",
       "      <td>109.154591</td>\n",
       "      <td>90.713220</td>\n",
       "      <td>92.511770</td>\n",
       "    </tr>\n",
       "  </tbody>\n",
       "</table>\n",
       "</div>"
      ],
      "text/plain": [
       "         Age  Systolic_BP  Diastolic_BP  Cholesterol\n",
       "0  77.196340    85.288742     80.021878    79.957109\n",
       "1  63.529850    99.379736     84.852361   110.382411\n",
       "2  69.003986   111.349455    109.850616   100.828246\n",
       "3  82.638210    95.056128     79.666851    87.066303\n",
       "4  78.346286   109.154591     90.713220    92.511770"
      ]
     },
     "execution_count": 2,
     "metadata": {},
     "output_type": "execute_result"
    }
   ],
   "source": [
    "X = pd.read_csv('X_data.csv')\n",
    "X.drop(columns=X.columns[0], axis=1, inplace=True)\n",
    "X.head()"
   ]
  },
  {
   "cell_type": "code",
   "execution_count": 3,
   "id": "3df20a3b",
   "metadata": {},
   "outputs": [
    {
     "data": {
      "text/html": [
       "<div>\n",
       "<style scoped>\n",
       "    .dataframe tbody tr th:only-of-type {\n",
       "        vertical-align: middle;\n",
       "    }\n",
       "\n",
       "    .dataframe tbody tr th {\n",
       "        vertical-align: top;\n",
       "    }\n",
       "\n",
       "    .dataframe thead th {\n",
       "        text-align: right;\n",
       "    }\n",
       "</style>\n",
       "<table border=\"1\" class=\"dataframe\">\n",
       "  <thead>\n",
       "    <tr style=\"text-align: right;\">\n",
       "      <th></th>\n",
       "      <th>y</th>\n",
       "    </tr>\n",
       "  </thead>\n",
       "  <tbody>\n",
       "    <tr>\n",
       "      <th>0</th>\n",
       "      <td>1.0</td>\n",
       "    </tr>\n",
       "    <tr>\n",
       "      <th>1</th>\n",
       "      <td>1.0</td>\n",
       "    </tr>\n",
       "    <tr>\n",
       "      <th>2</th>\n",
       "      <td>1.0</td>\n",
       "    </tr>\n",
       "    <tr>\n",
       "      <th>3</th>\n",
       "      <td>1.0</td>\n",
       "    </tr>\n",
       "    <tr>\n",
       "      <th>4</th>\n",
       "      <td>1.0</td>\n",
       "    </tr>\n",
       "  </tbody>\n",
       "</table>\n",
       "</div>"
      ],
      "text/plain": [
       "     y\n",
       "0  1.0\n",
       "1  1.0\n",
       "2  1.0\n",
       "3  1.0\n",
       "4  1.0"
      ]
     },
     "execution_count": 3,
     "metadata": {},
     "output_type": "execute_result"
    }
   ],
   "source": [
    "y = pd.read_csv('y_data.csv')  # read and convert to numpy\n",
    "y.drop(columns=y.columns[0], axis=1, inplace=True)\n",
    "y.head()"
   ]
  },
  {
   "cell_type": "code",
   "execution_count": 4,
   "id": "40cd7975",
   "metadata": {},
   "outputs": [],
   "source": [
    "X = X.values  # convert to numpy\n",
    "y = y.values.astype(int).flatten()  # convert to numpy integers and flatten\n",
    "# X = np.concatenate((np.ones((len(y), 1)), X), axis=1) # add bias term - bias term added after Test Train split and scaling, according to the updated instructions."
   ]
  },
  {
   "cell_type": "code",
   "execution_count": 5,
   "id": "e84572ef",
   "metadata": {},
   "outputs": [],
   "source": [
    "X_train, X_test, y_train, y_test = train_test_split(X, y, test_size=0.2, random_state=336546)"
   ]
  },
  {
   "cell_type": "code",
   "execution_count": 6,
   "id": "cbda13be",
   "metadata": {},
   "outputs": [],
   "source": [
    "scaler = StandardScaler()\n",
    "X_train = scaler.fit_transform(X_train)\n",
    "X_test = scaler.transform(X_test)\n",
    "X_train = np.concatenate((np.ones((len(y_train), 1)), X_train), axis=1)\n",
    "X_test = np.concatenate((np.ones((len(y_test), 1)), X_test), axis=1)"
   ]
  },
  {
   "cell_type": "markdown",
   "id": "ba3b541d",
   "metadata": {},
   "source": [
    "Implement the functions in manual_log_reg.py and train *log_reg* below. Use the *plot* flag in order to show reasonable learning (decrease of the training loss as a function of the iterations). Don't forget to make minor preprocessing so that gradient descent will be stable."
   ]
  },
  {
   "cell_type": "code",
   "execution_count": 7,
   "id": "7ea7e541",
   "metadata": {},
   "outputs": [],
   "source": [
    "log_reg = ManualLogisticRegression()"
   ]
  },
  {
   "cell_type": "code",
   "execution_count": 8,
   "id": "10485537",
   "metadata": {},
   "outputs": [
    {
     "data": {
      "image/png": "[encoded data removed]",
      "text/plain": [
       "<Figure size 640x480 with 1 Axes>"
      ]
     },
     "metadata": {},
     "output_type": "display_data"
    }
   ],
   "source": [
    "log_reg.fit(X_train,y_train,plot=True)"
   ]
  },
  {
   "cell_type": "markdown",
   "id": "307bc20e",
   "metadata": {},
   "source": [
    "Sort the learned weights (excluding the bias term). Which of the features is the most important one?"
   ]
  },
  {
   "cell_type": "code",
   "execution_count": 9,
   "id": "321be416",
   "metadata": {
    "scrolled": true
   },
   "outputs": [
    {
     "name": "stdout",
     "output_type": "stream",
     "text": [
      "The most important feature according to the learned weights is: 'Age'\n"
     ]
    }
   ],
   "source": [
    "# ------------------------ IMPLEMENT YOUR CODE HERE: ----------------------------------\n",
    "feats = {0:'bias', 1:'Age', 2:'Systolic_BP', 3:'Diastolic_BP', 4:'Cholesterol'}\n",
    "sorted_weights = np.argsort(log_reg.w)[::-1]\n",
    "print(\"The most important feature according to the learned weights is: '{}'\".format(feats[sorted_weights[0]]))\n",
    "# --------------------------------------------------------------------------------------"
   ]
  },
  {
   "cell_type": "markdown",
   "id": "cbd2c44f",
   "metadata": {},
   "source": [
    "Report the performance on the \"correct dataset\" using *conf_matrix* function. The required metrics are: TN, FP, FN, TP, Se, Sp, PPV, NPV, Acc, F1 and AUC. You may use functions seen in the tutorial but notice that one of the metrics can and should be called from *log_reg* itself."
   ]
  },
  {
   "cell_type": "code",
   "execution_count": 10,
   "id": "6a790e73",
   "metadata": {},
   "outputs": [
    {
     "name": "stdout",
     "output_type": "stream",
     "text": [
      "Confusion matrix:\n",
      " [[445 166]\n",
      " [139 450]]\n"
     ]
    }
   ],
   "source": [
    "y_pred_proba_test = log_reg.predict_proba(X_test)\n",
    "y_pred_test = log_reg.predict(X_test)\n",
    "conf_mat = log_reg.conf_matrix(X_test, y_test)\n",
    "print('Confusion matrix:\\n' ,conf_mat)"
   ]
  },
  {
   "cell_type": "code",
   "execution_count": 11,
   "id": "fe7b82ff",
   "metadata": {},
   "outputs": [],
   "source": [
    "TP = conf_mat[1][1]\n",
    "FP = conf_mat[0][1]\n",
    "FN = conf_mat[1][0]\n",
    "TN = conf_mat[0][0]\n",
    "Se = TP/(TP+FN)\n",
    "Sp = TN/(TN+FP)\n",
    "PPV = TP/(TP+FP)\n",
    "NPV = TN/(TN+FN)\n",
    "F1 = 2*PPV*Se/(PPV+Se)\n",
    "Acc = (np.sum((y_pred_test==y_test) * 1)/(len(y_test))) * 100\n",
    "auroc = roc_auc_score(y_test,y_pred_proba_test)"
   ]
  },
  {
   "cell_type": "code",
   "execution_count": 12,
   "id": "1d5bc2f6",
   "metadata": {},
   "outputs": [
    {
     "name": "stdout",
     "output_type": "stream",
     "text": [
      "TN Values : 445.00\n",
      "FP Values : 166.00\n",
      "FN Values : 139.00\n",
      "TP Values : 450.00\n",
      "Se Score is: 0.76\n",
      "Sp Score is: 0.73\n",
      "PPV Score is: 0.73\n",
      "NPV Score is: 0.76\n",
      "ACC Score is: 74.58%\n",
      "F1 Score is: 0.75\n",
      "AUROC Score is: 0.81\n"
     ]
    }
   ],
   "source": [
    "labels = ['TN','FP','FN','TP','Se','Sp','PPV','NPV','ACC','F1','AUROC']\n",
    "metrics = [TN,FP,FN,TP,Se,Sp,PPV,NPV,Acc,F1,auroc]\n",
    "for i,metric in enumerate(metrics):\n",
    "    if metric in [TN,FP,FN,TP]:\n",
    "        print('{} Values : {:.2f}'.format(labels[i],metric))\n",
    "    else:\n",
    "        print('{} Score is: {:.2f}'.format(labels[i],metric)) if metric != Acc else print('{} Score is: {:.2f}%'.format(labels[i],metric))"
   ]
  },
  {
   "cell_type": "code",
   "execution_count": 12,
   "id": "94f82a67",
   "metadata": {},
   "outputs": [],
   "source": []
  }
 ],
 "metadata": {
  "kernelspec": {
   "display_name": "Python 3",
   "language": "python",
   "name": "python3"
  },
  "language_info": {
   "codemirror_mode": {
    "name": "ipython",
    "version": 3
   },
   "file_extension": ".py",
   "mimetype": "text/x-python",
   "name": "python",
   "nbconvert_exporter": "python",
   "pygments_lexer": "ipython3",
   "version": "3.7.6"
  }
 },
 "nbformat": 4,
 "nbformat_minor": 5
}
